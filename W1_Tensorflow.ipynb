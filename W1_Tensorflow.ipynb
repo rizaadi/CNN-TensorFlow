{
  "nbformat": 4,
  "nbformat_minor": 0,
  "metadata": {
    "colab": {
      "name": "W1_Tensorflow.ipynb",
      "provenance": [],
      "authorship_tag": "ABX9TyPx57xUJGoDjEV4VEo5i9G0",
      "include_colab_link": true
    },
    "kernelspec": {
      "name": "python3",
      "display_name": "Python 3"
    },
    "language_info": {
      "name": "python"
    }
  },
  "cells": [
    {
      "cell_type": "markdown",
      "metadata": {
        "id": "view-in-github",
        "colab_type": "text"
      },
      "source": [
        "<a href=\"https://colab.research.google.com/github/rizaadi/CNN-TensorFlow/blob/main/W1_Tensorflow.ipynb\" target=\"_parent\"><img src=\"https://colab.research.google.com/assets/colab-badge.svg\" alt=\"Open In Colab\"/></a>"
      ]
    },
    {
      "cell_type": "code",
      "execution_count": null,
      "metadata": {
        "colab": {
          "base_uri": "https://localhost:8080/"
        },
        "id": "KZI0kKwj5to3",
        "outputId": "c066129e-f2a1-4e69-b23c-ec0a03327cf8"
      },
      "outputs": [
        {
          "output_type": "stream",
          "name": "stdout",
          "text": [
            "anjay\n"
          ]
        }
      ],
      "source": [
        "print('anjay')"
      ]
    }
  ]
}